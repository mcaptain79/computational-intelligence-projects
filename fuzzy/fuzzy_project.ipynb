{
 "cells": [
  {
   "cell_type": "code",
   "execution_count": 52,
   "id": "609e055b",
   "metadata": {},
   "outputs": [],
   "source": [
    "import pandas as pd\n",
    "import matplotlib as mlp\n",
    "import matplotlib.pyplot as plt\n",
    "import numpy as np\n",
    "import math\n",
    "import random"
   ]
  },
  {
   "cell_type": "code",
   "execution_count": 53,
   "id": "515ed38a",
   "metadata": {},
   "outputs": [],
   "source": [
    "data1 = pd.read_csv('data1.csv',header = None)\n",
    "data2 = pd.read_csv('data2.csv',header = None)\n",
    "data3 = pd.read_csv('data3.csv',header = None)\n",
    "data4 = pd.read_csv('data4.csv',header = None)"
   ]
  },
  {
   "cell_type": "code",
   "execution_count": 54,
   "id": "f415950e",
   "metadata": {},
   "outputs": [],
   "source": [
    "#function below is for calculating distance between two dots of the same dimention\n",
    "def distanceCalculate(dot1,dot2,dimention):\n",
    "    res = 0\n",
    "    for i in range(dimention):\n",
    "        res += math.pow(dot1[i]-dot2[i],2)\n",
    "    return math.sqrt(res)"
   ]
  },
  {
   "cell_type": "code",
   "execution_count": 55,
   "id": "e6b71004",
   "metadata": {},
   "outputs": [],
   "source": [
    "#function below is for creating belonging values \n",
    "def createBelongingValues(dotsList,dimention,centresList,m):\n",
    "    finalRes = []\n",
    "    for i in range(len(dotsList)):\n",
    "        if dotsList[i] in centresList:\n",
    "            midRes = [0]*len(centresList)\n",
    "            for counter in range(len(centresList)):\n",
    "                if dotsList[i] == centresList[counter]:\n",
    "                    midRes[counter] = 1\n",
    "            finalRes.append(midRes)\n",
    "        else:\n",
    "            midRes = []\n",
    "            for j in range(len(centresList)):\n",
    "                distance1 = distanceCalculate(dotsList[i],centresList[j],dimention)\n",
    "                midDistance = 0\n",
    "                for k in range(len(centresList)):\n",
    "                    distance2 = distanceCalculate(dotsList[i],centresList[k],dimention)\n",
    "                    midDistance += math.pow(distance1/distance2,2/(m-1))\n",
    "                midRes.append(1/midDistance)\n",
    "            finalRes.append(midRes)\n",
    "    return finalRes"
   ]
  },
  {
   "cell_type": "code",
   "execution_count": 56,
   "id": "03460442",
   "metadata": {},
   "outputs": [],
   "source": [
    "def updateCentres(dotsList,centresList,belongingValues,dimention,m):\n",
    "    for k in range(dimention):\n",
    "        for i in range(len(centresList)):\n",
    "            sorat = 0\n",
    "            makhraj = 0\n",
    "            for j in range(len(dotsList)):\n",
    "                sorat += dotsList[j][k]*math.pow(belongingValues[j][i],m)\n",
    "                makhraj += math.pow(belongingValues[j][i],m)\n",
    "            centresList[i][k] = sorat/makhraj\n",
    "    return centresList"
   ]
  },
  {
   "cell_type": "code",
   "execution_count": 90,
   "id": "f1eead9a",
   "metadata": {},
   "outputs": [],
   "source": [
    "def cost(dotsList,centresList,belongingValues,dimention,m):\n",
    "    res = 0\n",
    "    for i in range(len(dotsList)):\n",
    "        for j in range(len(centresList)):\n",
    "            res += math.pow(belongingValues[i][j],m)*distanceCalculate(dotsList[i],centresList[j],dimention)\n",
    "    return res"
   ]
  },
  {
   "cell_type": "code",
   "execution_count": 86,
   "id": "e5268e52",
   "metadata": {},
   "outputs": [],
   "source": [
    "def readData(data,dimention):\n",
    "    res = []\n",
    "    for i in range(len(data)):\n",
    "        midRes = []\n",
    "        for j in range(dimention):\n",
    "            midRes.append(data.iloc[i][j])\n",
    "        res.append(midRes)\n",
    "    return res"
   ]
  },
  {
   "cell_type": "code",
   "execution_count": 118,
   "id": "4cd331e2",
   "metadata": {},
   "outputs": [],
   "source": [
    "def randomCentreCreate(centresNumber,dimention):\n",
    "    res = []\n",
    "    for i in range(centresNumber):\n",
    "        midRes = []\n",
    "        for j in range(dimention):\n",
    "            midRes.append(random.randrange(-30,30))\n",
    "        res.append(midRes)\n",
    "    return res"
   ]
  },
  {
   "cell_type": "code",
   "execution_count": 127,
   "id": "b3f358d7",
   "metadata": {},
   "outputs": [],
   "source": [
    "def engine(data,centresNumber,m):\n",
    "    dimention = len(data.columns)\n",
    "    dotsList = readData(data,dimention)\n",
    "    centresList = randomCentreCreate(centresNumber,dimention)\n",
    "    for i in range(100):\n",
    "        belongingValues = createBelongingValues(dotsList,dimention,centresList,m)\n",
    "        centresList = updateCentres(dotsList,centresList,belongingValues,dimention,m)\n",
    "    print(centresList)"
   ]
  },
  {
   "cell_type": "code",
   "execution_count": 128,
   "id": "917389b7",
   "metadata": {},
   "outputs": [
    {
     "name": "stdout",
     "output_type": "stream",
     "text": [
      "[[433.4958998856943, 388.7799077181668], [518.4063079221567, 238.67489925706312], [175.99093165955063, 264.00512909770396], [457.2610416234051, 78.58392984922989], [243.10793074020822, 210.8778324904391]]\n"
     ]
    }
   ],
   "source": [
    "engine(data1,5,3)"
   ]
  },
  {
   "cell_type": "code",
   "execution_count": null,
   "id": "d06b0256",
   "metadata": {},
   "outputs": [],
   "source": []
  }
 ],
 "metadata": {
  "kernelspec": {
   "display_name": "Python 3",
   "language": "python",
   "name": "python3"
  },
  "language_info": {
   "codemirror_mode": {
    "name": "ipython",
    "version": 3
   },
   "file_extension": ".py",
   "mimetype": "text/x-python",
   "name": "python",
   "nbconvert_exporter": "python",
   "pygments_lexer": "ipython3",
   "version": "3.8.8"
  }
 },
 "nbformat": 4,
 "nbformat_minor": 5
}
